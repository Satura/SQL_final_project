{
 "cells": [
  {
   "cell_type": "code",
   "execution_count": 1,
   "metadata": {},
   "outputs": [],
   "source": [
    "import sqlite3\n",
    "import pandas as pd\n",
    "import numpy as np\n",
    "import matplotlib.pyplot as plt"
   ]
  },
  {
   "cell_type": "code",
   "execution_count": 2,
   "metadata": {},
   "outputs": [],
   "source": [
    "# подключение к базе\n",
    "\n",
    "con = sqlite3.connect('linkedin.db', timeout=10)\n",
    "cur = con.cursor()"
   ]
  },
  {
   "cell_type": "code",
   "execution_count": 57,
   "metadata": {},
   "outputs": [],
   "source": [
    "# чтение данных из CSV \n",
    "\n",
    "benefits_df = pd.read_csv('benefits.csv')\n",
    "companies_df = pd.read_csv('companies.csv')\n",
    "company_industries_df = pd.read_csv('company_industries.csv')\n",
    "company_specialities_df = pd.read_csv('company_specialities.csv')\n",
    "employee_counts_df = pd.read_csv('employee_counts.csv')\n",
    "job_industries_df = pd.read_csv('job_industries.csv')\n",
    "job_postings_df = pd.read_csv('job_postings.csv')\n",
    "job_skills_df = pd.read_csv('job_skills.csv')"
   ]
  },
  {
   "cell_type": "code",
   "execution_count": 58,
   "metadata": {},
   "outputs": [],
   "source": [
    "# удаление дубликатов\n",
    "\n",
    "benefits_df = benefits_df.drop_duplicates(keep='first', inplace=False, ignore_index=False)\n",
    "companies_df = companies_df.drop_duplicates(keep='first', inplace=False, ignore_index=False)\n",
    "company_industries_df = company_industries_df.drop_duplicates(keep='first', inplace=False, ignore_index=False)\n",
    "company_specialities_df = company_specialities_df.drop_duplicates(keep='first', inplace=False, ignore_index=False)\n",
    "employee_counts_df = employee_counts_df.drop_duplicates(keep='first', inplace=False, ignore_index=False)\n",
    "job_industries_df = job_industries_df.drop_duplicates(keep='first', inplace=False, ignore_index=False)\n",
    "job_postings_df = job_postings_df.drop_duplicates(keep='first', inplace=False, ignore_index=False)\n",
    "job_skills_df = job_skills_df.drop_duplicates(keep='first', inplace=False, ignore_index=False)"
   ]
  },
  {
   "cell_type": "code",
   "execution_count": 59,
   "metadata": {},
   "outputs": [],
   "source": [
    "# удаление лишних столбцов\n",
    "\n",
    "benefits_df = benefits_df.drop(columns = ['inferred'])\n",
    "employee_counts_df = employee_counts_df.drop(columns = ['follower_count', 'time_recorded'])\n",
    "companies_df = companies_df.drop(columns=['zip_code', 'url', 'address'])\n",
    "job_postings_df = job_postings_df.drop(columns=['currency','applies','original_listed_time',\n",
    "                                                'views','job_posting_url','application_url','application_type',\n",
    "                                                'expiry','closed_time','listed_time','posting_domain','sponsored',\n",
    "                                                'work_type','compensation_type'])\n",
    "job_postings_df = job_postings_df.dropna(subset=['company_id'])"
   ]
  },
  {
   "cell_type": "code",
   "execution_count": 60,
   "metadata": {},
   "outputs": [],
   "source": [
    "# объединение данных по вакансиям, компаниям, сферам деятельности и численности сотрудников\n",
    "\n",
    "companies_df = companies_df.merge(company_industries_df, on='company_id')\n",
    "companies_df = companies_df.merge(employee_counts_df, on='company_id')\n",
    "job_postings_df = job_postings_df.merge(companies_df, on='company_id')"
   ]
  },
  {
   "cell_type": "code",
   "execution_count": 61,
   "metadata": {},
   "outputs": [],
   "source": [
    "# приведение ЗП\n",
    "\n",
    "job_postings_df['normalized_salary'] = job_postings_df.apply(\n",
    "    lambda x: (x['max_salary']+x['min_salary'])/2 if not pd.isnull(x['max_salary']) else x['med_salary'], axis=1)\n",
    "\n",
    "period = {'HOURLY': 40*52, 'MONTHLY': 12, 'YEARLY': 1}\n",
    "\n",
    "job_postings_df['normalized_salary'] = job_postings_df.apply(\n",
    "    lambda x: period[x['pay_period']] * x['normalized_salary']\n",
    "    if not pd.isna(x['pay_period']) and not pd.isna(x['normalized_salary'])\n",
    "    else np.nan,\n",
    "    axis=1\n",
    ")"
   ]
  },
  {
   "cell_type": "code",
   "execution_count": 63,
   "metadata": {},
   "outputs": [
    {
     "name": "stdout",
     "output_type": "stream",
     "text": [
      "<class 'pandas.core.frame.DataFrame'>\n",
      "Index: 17160 entries, 0 to 139889\n",
      "Data columns (total 22 columns):\n",
      " #   Column                      Non-Null Count  Dtype  \n",
      "---  ------                      --------------  -----  \n",
      " 0   job_id                      17160 non-null  int64  \n",
      " 1   company_id                  17160 non-null  float64\n",
      " 2   title                       17160 non-null  object \n",
      " 3   description_x               17159 non-null  object \n",
      " 4   max_salary                  6026 non-null   float64\n",
      " 5   med_salary                  1056 non-null   float64\n",
      " 6   min_salary                  6026 non-null   float64\n",
      " 7   pay_period                  7082 non-null   object \n",
      " 8   formatted_work_type         17160 non-null  object \n",
      " 9   location                    17160 non-null  object \n",
      " 10  remote_allowed              2501 non-null   float64\n",
      " 11  formatted_experience_level  12240 non-null  object \n",
      " 12  skills_desc                 145 non-null    object \n",
      " 13  name                        17160 non-null  object \n",
      " 14  description_y               17088 non-null  object \n",
      " 15  company_size                16485 non-null  float64\n",
      " 16  state                       17157 non-null  object \n",
      " 17  country                     17160 non-null  object \n",
      " 18  city                        17160 non-null  object \n",
      " 19  industry                    17160 non-null  object \n",
      " 20  employee_count              17160 non-null  int64  \n",
      " 21  normalized_salary           7082 non-null   float64\n",
      "dtypes: float64(7), int64(2), object(13)\n",
      "memory usage: 3.0+ MB\n"
     ]
    }
   ],
   "source": [
    "job_postings_df = job_postings_df.drop_duplicates(keep='first', inplace=False, ignore_index=False)\n",
    "job_postings_df.info()"
   ]
  },
  {
   "cell_type": "code",
   "execution_count": 64,
   "metadata": {},
   "outputs": [
    {
     "data": {
      "text/plain": [
       "27899"
      ]
     },
     "execution_count": 64,
     "metadata": {},
     "output_type": "execute_result"
    }
   ],
   "source": [
    "# загрузка данных в БД\n",
    "\n",
    "benefits_df.to_sql(con=con, name='benefits', index=False, if_exists = 'replace')\n",
    "company_specialities_df.to_sql(con=con, name='company_specialities', index=False, if_exists = 'replace')\n",
    "job_postings_df.to_sql(con=con, name='job_postings', index=False, if_exists = 'replace')\n",
    "job_skills_df.to_sql(con=con, name='job_skills', index=False, if_exists = 'replace')"
   ]
  },
  {
   "cell_type": "code",
   "execution_count": 52,
   "metadata": {},
   "outputs": [
    {
     "data": {
      "text/plain": [
       "name\n",
       "Google                          186\n",
       "City Lifestyle                  161\n",
       "H&R Block                       156\n",
       "Verizon                         113\n",
       "Robert Half                     112\n",
       "Insight Global                  108\n",
       "Amazon                           93\n",
       "The Mom Project                  92\n",
       "Ulta Beauty                      86\n",
       "Milestone Technologies, Inc.     74\n",
       "Name: count, dtype: int64"
      ]
     },
     "execution_count": 52,
     "metadata": {},
     "output_type": "execute_result"
    }
   ],
   "source": [
    "# ТОП 10 компаний по опубликованным вакансиям\n",
    "\n",
    "# top_companies = job_postings_df['name'].value_counts().head(10)\n",
    "job_postings_df['name'].value_counts().head(10)"
   ]
  },
  {
   "cell_type": "code",
   "execution_count": 53,
   "metadata": {},
   "outputs": [
    {
     "data": {
      "text/plain": [
       "type\n",
       "401(k)                     4426\n",
       "Medical insurance          2065\n",
       "Vision insurance           1989\n",
       "Dental insurance           1611\n",
       "Disability insurance       1468\n",
       "Tuition assistance          598\n",
       "Commuter benefits           427\n",
       "Paid maternity leave        417\n",
       "Paid paternity leave        394\n",
       "Pension plan                237\n",
       "Student loan assistance      67\n",
       "Child care support           62\n",
       "Name: count, dtype: int64"
      ]
     },
     "execution_count": 53,
     "metadata": {},
     "output_type": "execute_result"
    }
   ],
   "source": [
    "# частота предложения бонусов\n",
    "\n",
    "benefits_df['type'].value_counts().head(20)"
   ]
  },
  {
   "cell_type": "code",
   "execution_count": 65,
   "metadata": {},
   "outputs": [
    {
     "data": {
      "text/plain": [
       "industry\n",
       "Online Media                        300000.0\n",
       "Veterinary                          275000.0\n",
       "Investment Banking                  205000.0\n",
       "Publishing                          201182.0\n",
       "Public Policy                       185810.0\n",
       "Computer Software                   155575.0\n",
       "Venture Capital & Private Equity    150000.0\n",
       "Consumer Electronics                149250.0\n",
       "Fine Art                            144000.0\n",
       "Executive Office                    141000.0\n",
       "Name: normalized_salary, dtype: float64"
      ]
     },
     "execution_count": 65,
     "metadata": {},
     "output_type": "execute_result"
    }
   ],
   "source": [
    "# ТОП-10 наиболее оплачиваемых сфер деятельности компаний \n",
    "\n",
    "job_postings_df.groupby('industry')['normalized_salary'].median().sort_values(ascending=False).head(10)"
   ]
  },
  {
   "cell_type": "code",
   "execution_count": 16,
   "metadata": {},
   "outputs": [
    {
     "data": {
      "text/plain": [
       "skill_abr\n",
       "IT      3841\n",
       "SALE    2904\n",
       "MGMT    2467\n",
       "MNFC    2195\n",
       "BD      1993\n",
       "ENG     1974\n",
       "OTHR    1574\n",
       "HCPR    1346\n",
       "FIN     1227\n",
       "ACCT     813\n",
       "Name: job_id, dtype: int64"
      ]
     },
     "execution_count": 16,
     "metadata": {},
     "output_type": "execute_result"
    }
   ],
   "source": [
    "# ТОП востребованных навыков\n",
    "\n",
    "job_skills_df.groupby('skill_abr')['job_id'].count().sort_values(ascending=False).head(10)\n"
   ]
  },
  {
   "cell_type": "code",
   "execution_count": 37,
   "metadata": {},
   "outputs": [
    {
     "data": {
      "text/plain": [
       "name\n",
       "UP Talent Group                800000.0\n",
       "ICON Strategic Solutions       750000.0\n",
       "Baylor Scott & White Health    750000.0\n",
       "Selby Jennings                 650000.0\n",
       "Harris County                  564213.0\n",
       "Goliath Partners               425000.0\n",
       "Summit Funding, Inc.           362500.0\n",
       "Niantic, Inc.                  317500.0\n",
       "Acrisure                       317500.0\n",
       "Rambus                         315000.0\n",
       "Name: normalized_salary, dtype: float64"
      ]
     },
     "execution_count": 37,
     "metadata": {},
     "output_type": "execute_result"
    }
   ],
   "source": [
    "# ТОП компаний с наибольшим предложением ЗП\n",
    "\n",
    "job_postings_df.groupby('name')['normalized_salary'].median().sort_values(ascending=False).head(10)"
   ]
  },
  {
   "cell_type": "code",
   "execution_count": 105,
   "metadata": {},
   "outputs": [
    {
     "data": {
      "text/plain": [
       "industry\n",
       "Staffing & Recruiting                2537\n",
       "Information Technology & Services    1974\n",
       "Hospital & Health Care               1586\n",
       "Retail                               1235\n",
       "Computer Software                    1007\n",
       "Financial Services                    606\n",
       "Transportation/Trucking/Railroad      350\n",
       "Construction                          324\n",
       "Real Estate                           316\n",
       "Insurance                             278\n",
       "Name: job_id, dtype: int64"
      ]
     },
     "execution_count": 105,
     "metadata": {},
     "output_type": "execute_result"
    }
   ],
   "source": [
    "# ТОП индустрий по опубликованным вакансиям \n",
    "\n",
    "top_ind_vac = job_postings_df.groupby('industry')['job_id'].count().sort_values(ascending=False).head(10)\n",
    "top_ind_vac"
   ]
  },
  {
   "cell_type": "code",
   "execution_count": 75,
   "metadata": {},
   "outputs": [
    {
     "data": {
      "text/plain": [
       "formatted_work_type\n",
       "Full-time     13867\n",
       "Contract       1875\n",
       "Part-time      1095\n",
       "Temporary       136\n",
       "Internship      118\n",
       "Other            62\n",
       "Volunteer         7\n",
       "Name: job_id, dtype: int64"
      ]
     },
     "execution_count": 75,
     "metadata": {},
     "output_type": "execute_result"
    }
   ],
   "source": [
    "# распределение по типу занятости\n",
    "\n",
    "job_postings_df.groupby('formatted_work_type')['job_id'].count().sort_values(ascending=False).head(10)"
   ]
  },
  {
   "cell_type": "code",
   "execution_count": 135,
   "metadata": {},
   "outputs": [
    {
     "data": {
      "text/plain": [
       "formatted_work_type\n",
       "Full-time     1797\n",
       "Contract       570\n",
       "Part-time       85\n",
       "Internship      25\n",
       "Temporary       10\n",
       "Other            7\n",
       "Volunteer        7\n",
       "Name: remote_allowed, dtype: int64"
      ]
     },
     "execution_count": 135,
     "metadata": {},
     "output_type": "execute_result"
    }
   ],
   "source": [
    "# по возможности удаленной работы\n",
    "\n",
    "job_postings_df.groupby('formatted_work_type')['remote_allowed'].count().sort_values(ascending=False).head(10)"
   ]
  },
  {
   "cell_type": "code",
   "execution_count": 37,
   "metadata": {},
   "outputs": [
    {
     "data": {
      "text/plain": [
       "<sqlite3.Cursor at 0x2ac1bc6f940>"
      ]
     },
     "execution_count": 37,
     "metadata": {},
     "output_type": "execute_result"
    }
   ],
   "source": [
    "# Вывод имеющихся IT-вакансий, требования к квалификации/опыту, средняя ЗП\n",
    "# 1) создание таблицы для желаемых вакансий\n",
    "\n",
    "create_query = \"\"\" \n",
    "CREATE TEMP TABLE spec_names (spec_name TEXT NOT NULL UNIQUE);\n",
    "\"\"\"\n",
    "cur.execute(create_query)"
   ]
  },
  {
   "cell_type": "code",
   "execution_count": 38,
   "metadata": {},
   "outputs": [
    {
     "data": {
      "text/plain": [
       "<sqlite3.Cursor at 0x2ac1bc6f940>"
      ]
     },
     "execution_count": 38,
     "metadata": {},
     "output_type": "execute_result"
    }
   ],
   "source": [
    "# 2) заполнение таблицы перечнем желаемых вакансий\n",
    "\n",
    "full_query = \"\"\" \n",
    "INSERT INTO spec_names VALUES \n",
    "('QA'), ('QE'), ('Quality Assurence'), ('Quality Engineer');\n",
    "\"\"\"\n",
    "\n",
    "cur.execute(full_query)\n",
    "# на выбор варианты вакансий и ключ.слов\n",
    "# ('Java'),('Python'),('Ruby'),('C++'),('C#'),('Kotlin'),('Swift'),('PHP'),\n",
    "# ('Database Architec'),('Database Engineer'),('Data Engineer'),\n",
    "# ('Mobile Develper'),('Android Developer'), ('iOS Developer'), \n",
    "# ('Web Designer'),('JavaScript'),('HTML'),('CSS'),\n",
    "# ('Network Security Engineer'),('Software Engineer')"
   ]
  },
  {
   "cell_type": "code",
   "execution_count": 39,
   "metadata": {},
   "outputs": [
    {
     "name": "stdout",
     "output_type": "stream",
     "text": [
      "  spec_name_or_key_word         exp_level  vacancy_amount  midle_salary\n",
      "3      Quality Engineer         Associate               5       70969.0\n",
      "7                    QA          Director               0           NaN\n",
      "0                    QA       Entry level               6       55467.0\n",
      "6      Quality Engineer       Entry level               2       87500.0\n",
      "1                    QA  Mid-Senior level               6      131287.0\n",
      "4      Quality Engineer  Mid-Senior level               4      150000.0\n",
      "2      Quality Engineer              None               6      111145.0\n",
      "5                    QA              None               2           NaN\n"
     ]
    }
   ],
   "source": [
    "# 3) запрос искомых вакансий / ключевых слов\n",
    "\n",
    "select_query = \"\"\" SELECT\n",
    "\tspec_name AS spec_name_or_key_word, \n",
    "\tformatted_experience_level AS exp_level, \n",
    "\tCOUNT(title)/2 AS vacancy_amount, \n",
    "\tROUND(AVG(normalized_salary)) AS midle_salary\n",
    "FROM spec_names, job_postings jp \n",
    "WHERE INSTR(lower(title), lower(spec_name)) > 0\n",
    "GROUP BY spec_name, formatted_experience_level\n",
    "ORDER BY 3 DESC;\n",
    "\"\"\"\n",
    "\n",
    "it_vac = pd.read_sql(select_query, con=con)\n",
    "print(it_vac.sort_values(by='exp_level'))"
   ]
  },
  {
   "cell_type": "code",
   "execution_count": 40,
   "metadata": {},
   "outputs": [
    {
     "data": {
      "text/plain": [
       "<function Connection.close()>"
      ]
     },
     "execution_count": 40,
     "metadata": {},
     "output_type": "execute_result"
    }
   ],
   "source": [
    "con.close"
   ]
  },
  {
   "cell_type": "code",
   "execution_count": null,
   "metadata": {},
   "outputs": [],
   "source": [
    "# загрузка данных из БД\n",
    "\n",
    "job_post = pd.read_sql(\"\"\"SELECT * FROM job_postings\"\"\", con=con)\n",
    "job_skills = pd.read_sql(\"\"\"SELECT * FROM job_skills\"\"\", con=con)\n",
    "benefits = pd.read_sql(\"\"\"SELECT * FROM benefits\"\"\", con=con)\n",
    "company_specialities = pd.read_sql(\"\"\"SELECT * FROM company_specialities\"\"\", con=con)"
   ]
  },
  {
   "cell_type": "code",
   "execution_count": 63,
   "metadata": {},
   "outputs": [
    {
     "name": "stdout",
     "output_type": "stream",
     "text": [
      "                     Вакансий всего  Вакансий с удалёнкой       %\n",
      "formatted_work_type                                              \n",
      "Full-time                     13867                  1797   12.96\n",
      "Contract                       1875                   570   30.40\n",
      "Part-time                      1095                    85    7.76\n",
      "Temporary                       136                    10    7.35\n",
      "Internship                      118                    25   21.19\n",
      "Other                            62                     7   11.29\n",
      "Volunteer                         7                     7  100.00\n"
     ]
    },
    {
     "data": {
      "image/png": "[encoded data removed]",
      "text/plain": [
       "<Figure size 800x400 with 1 Axes>"
      ]
     },
     "metadata": {},
     "output_type": "display_data"
    }
   ],
   "source": [
    "# построение поля для графиков \n",
    "fig, ax = plt.subplots(figsize=(8,4))\n",
    "\n",
    "# подсчет вакансий по формату работы и возможности удаленной работы\n",
    "worktype = job_post.groupby('formatted_work_type')['job_id'].count().sort_values(ascending=False).head(10)\n",
    "worktype_remote = job_post[job_post['remote_allowed']==1].groupby('formatted_work_type')['job_id'].count().sort_values(ascending=False).head(10)\n",
    "perc = round(worktype_remote*100/worktype,2)\n",
    "worktype.name = 'Вакансий всего'\n",
    "worktype_remote.name = 'Вакансий с удалёнкой'\n",
    "perc.name = '%'\n",
    "\n",
    "# настройка графиков\n",
    "ax1 = plt.bar(worktype.index, worktype.values, color = 'blue')\n",
    "ax2 = plt.bar(worktype_remote.index, worktype_remote.values, color = 'green')\n",
    "plt.legend((ax1[0],ax2[0]), ('worktype','remote_allow'))\n",
    "\n",
    "# объединение подсчетов в одну таблицу\n",
    "union_WT_RA = pd.concat([worktype, worktype_remote, perc],axis=1)\n",
    "print(union_WT_RA)"
   ]
  }
 ],
 "metadata": {
  "kernelspec": {
   "display_name": "Python 3",
   "language": "python",
   "name": "python3"
  },
  "language_info": {
   "codemirror_mode": {
    "name": "ipython",
    "version": 3
   },
   "file_extension": ".py",
   "mimetype": "text/x-python",
   "name": "python",
   "nbconvert_exporter": "python",
   "pygments_lexer": "ipython3",
   "version": "3.11.6"
  }
 },
 "nbformat": 4,
 "nbformat_minor": 2
}
